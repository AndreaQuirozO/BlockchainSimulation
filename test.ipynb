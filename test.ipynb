{
 "cells": [
  {
   "cell_type": "code",
   "execution_count": 2,
   "metadata": {},
   "outputs": [
    {
     "name": "stdout",
     "output_type": "stream",
     "text": [
      "Firma valida\n"
     ]
    }
   ],
   "source": [
    "from cryptography.hazmat.primitives.asymmetric import ec \n",
    "from cryptography.hazmat.primitives import hashes\n",
    "# Generacion de clave privada\n",
    "private_key = ec.generate_private_key(ec.SECP256K1()) \n",
    "public_key = private_key.public_key()\n",
    "# Firma de mensaje\n",
    "message = b\"Transaccion blockchain\"\n",
    "signature = private_key.sign(message , ec.ECDSA(hashes.SHA256()))\n",
    "# Verificacion\n",
    "try:\n",
    "    public_key.verify(signature ,\n",
    "                        message ,\n",
    "                        ec.ECDSA(hashes.SHA256()))\n",
    "    print(\"Firma valida\") \n",
    "except:\n",
    "    print(\"Firma invalida\")"
   ]
  },
  {
   "cell_type": "code",
   "execution_count": 3,
   "metadata": {},
   "outputs": [
    {
     "name": "stdout",
     "output_type": "stream",
     "text": [
      "b'0E\\x02!\\x00\\xef\\xe2\\x07[sy\\xaa`\\x00\\x81\\x05%\\xd6\\xea\\xbf\\xb4e\\x08\\xa7\\xbe\\xe6I\\xb8M(\\x82\\x10\\xfd\\xec!x\\x18\\x02 f\\x96^\\xb6,\\xc4\\xdb\\x00\\xc4\\x04\\xcc\\xc8\\xf4\\x05\\x87i\\xab\\xd8\\xbe\\xd0n\\xb5R\\xeb\\x11\\xe7\\xca\\xb4\\x07\\x18\\xa1w'\n"
     ]
    }
   ],
   "source": [
    "print(signature)"
   ]
  },
  {
   "cell_type": "code",
   "execution_count": 1,
   "metadata": {},
   "outputs": [],
   "source": [
    "from hashlib import sha256\n",
    "from ecdsa import SigningKey, SECP256k1, BadSignatureError"
   ]
  },
  {
   "cell_type": "code",
   "execution_count": 2,
   "metadata": {},
   "outputs": [],
   "source": [
    "def create_keys():\n",
    "    sk = SigningKey.generate(SECP256k1, hashfunc=sha256)\n",
    "    vk = sk.verifying_key\n",
    "    return sk, vk\n",
    "\n",
    "def sign_transaction(sk, message):\n",
    "    return sk.sign(message.encode(), hashfunc=sha256)\n",
    "\n",
    "def verify_signature(vk, message, signature):\n",
    "    try:\n",
    "        return vk.verify(bytes.fromhex(signature), message.encode())\n",
    "    except BadSignatureError:\n",
    "        return False"
   ]
  },
  {
   "cell_type": "code",
   "execution_count": null,
   "metadata": {},
   "outputs": [
    {
     "ename": "TypeError",
     "evalue": "fromhex() argument must be str, not bytes",
     "output_type": "error",
     "traceback": [
      "\u001b[31m---------------------------------------------------------------------------\u001b[39m",
      "\u001b[31mTypeError\u001b[39m                                 Traceback (most recent call last)",
      "\u001b[36mCell\u001b[39m\u001b[36m \u001b[39m\u001b[32mIn[8]\u001b[39m\u001b[32m, line 4\u001b[39m\n\u001b[32m      2\u001b[39m message = \u001b[33m\"\u001b[39m\u001b[33mTransaccion blockchain\u001b[39m\u001b[33m\"\u001b[39m\n\u001b[32m      3\u001b[39m signature = sign_transaction(sk, message)\n\u001b[32m----> \u001b[39m\u001b[32m4\u001b[39m \u001b[43mverify_signature\u001b[49m\u001b[43m(\u001b[49m\u001b[43mvk\u001b[49m\u001b[43m,\u001b[49m\u001b[43m \u001b[49m\u001b[43mmessage\u001b[49m\u001b[43m,\u001b[49m\u001b[43m \u001b[49m\u001b[43msignature\u001b[49m\u001b[43m)\u001b[49m\n",
      "\u001b[36mCell\u001b[39m\u001b[36m \u001b[39m\u001b[32mIn[2]\u001b[39m\u001b[32m, line 11\u001b[39m, in \u001b[36mverify_signature\u001b[39m\u001b[34m(vk, message, signature)\u001b[39m\n\u001b[32m      9\u001b[39m \u001b[38;5;28;01mdef\u001b[39;00m\u001b[38;5;250m \u001b[39m\u001b[34mverify_signature\u001b[39m(vk, message, signature):\n\u001b[32m     10\u001b[39m     \u001b[38;5;28;01mtry\u001b[39;00m:\n\u001b[32m---> \u001b[39m\u001b[32m11\u001b[39m         \u001b[38;5;28;01mreturn\u001b[39;00m vk.verify(\u001b[38;5;28;43mbytes\u001b[39;49m\u001b[43m.\u001b[49m\u001b[43mfromhex\u001b[49m\u001b[43m(\u001b[49m\u001b[43msignature\u001b[49m\u001b[43m)\u001b[49m, message.encode())\n\u001b[32m     12\u001b[39m     \u001b[38;5;28;01mexcept\u001b[39;00m BadSignatureError:\n\u001b[32m     13\u001b[39m         \u001b[38;5;28;01mreturn\u001b[39;00m \u001b[38;5;28;01mFalse\u001b[39;00m\n",
      "\u001b[31mTypeError\u001b[39m: fromhex() argument must be str, not bytes"
     ]
    }
   ],
   "source": [
    "sk, vk = create_keys()\n",
    "message = \"Transaccion blockchain\"\n",
    "signature = sign_transaction(sk, message)\n",
    "verify_signature(vk, message, signature.hex())"
   ]
  },
  {
   "cell_type": "code",
   "execution_count": null,
   "metadata": {},
   "outputs": [],
   "source": []
  }
 ],
 "metadata": {
  "kernelspec": {
   "display_name": "blockchain",
   "language": "python",
   "name": "python3"
  },
  "language_info": {
   "codemirror_mode": {
    "name": "ipython",
    "version": 3
   },
   "file_extension": ".py",
   "mimetype": "text/x-python",
   "name": "python",
   "nbconvert_exporter": "python",
   "pygments_lexer": "ipython3",
   "version": "3.11.11"
  }
 },
 "nbformat": 4,
 "nbformat_minor": 2
}
